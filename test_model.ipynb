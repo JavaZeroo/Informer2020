{
 "cells": [
  {
   "cell_type": "code",
   "execution_count": 1,
   "metadata": {},
   "outputs": [],
   "source": [
    "class dotdict(dict):\n",
    "    \"\"\"dot.notation access to dictionary attributes\"\"\"\n",
    "    __getattr__ = dict.get\n",
    "    __setattr__ = dict.__setitem__\n",
    "    __delattr__ = dict.__delitem__\n"
   ]
  },
  {
   "cell_type": "code",
   "execution_count": 2,
   "metadata": {},
   "outputs": [],
   "source": [
    "import torch\n",
    "import torch.nn as nn\n",
    "import torch.nn.functional as F\n",
    "\n",
    "from utils.masking import TriangularCausalMask, ProbMask\n",
    "from models.encoder import Encoder, EncoderLayer, ConvLayer, EncoderStack\n",
    "from models.decoder import Decoder, DecoderLayer\n",
    "from models.attn import FullAttention, ProbAttention, AttentionLayer\n",
    "from models.embed import DataEmbedding\n",
    "\n",
    "class Informer(nn.Module):\n",
    "    def __init__(self, enc_in, dec_in, c_out, \n",
    "                factor=5, d_model=512, n_heads=8, e_layers=3, d_layers=2, d_ff=512, \n",
    "                dropout=0.0, attn='prob', embed='fixed', freq='h', activation='gelu', \n",
    "                output_attention = False, distil=True, mix=True,\n",
    "                device=torch.device('cuda:0')):\n",
    "        super(Informer, self).__init__()\n",
    "        # self.pred_len = out_len\n",
    "        self.attn = attn\n",
    "        self.output_attention = output_attention\n",
    "\n",
    "        # Encoding\n",
    "        self.enc_embedding = DataEmbedding(enc_in, d_model, embed, freq, dropout, max_len=4320)\n",
    "        self.dec_embedding = DataEmbedding(dec_in, d_model, embed, freq, dropout, max_len=4320)\n",
    "        # Attention\n",
    "        Attn = ProbAttention if attn=='prob' else FullAttention\n",
    "        # Encoder\n",
    "        self.encoder = Encoder(\n",
    "            [\n",
    "                EncoderLayer(\n",
    "                    AttentionLayer(Attn(False, factor, attention_dropout=dropout, output_attention=output_attention), \n",
    "                                d_model, n_heads, mix=False),\n",
    "                    d_model,\n",
    "                    d_ff,\n",
    "                    dropout=dropout,\n",
    "                    activation=activation\n",
    "                ) for l in range(e_layers)\n",
    "            ],\n",
    "            [\n",
    "                ConvLayer(\n",
    "                    d_model\n",
    "                ) for l in range(e_layers-1)\n",
    "            ] if distil else None,\n",
    "            norm_layer=torch.nn.LayerNorm(d_model)\n",
    "        )\n",
    "        # Decoder\n",
    "        self.decoder = Decoder(\n",
    "            [\n",
    "                DecoderLayer(\n",
    "                    AttentionLayer(Attn(True, factor, attention_dropout=dropout, output_attention=False), \n",
    "                                d_model, n_heads, mix=mix),\n",
    "                    AttentionLayer(FullAttention(False, factor, attention_dropout=dropout, output_attention=False), \n",
    "                                d_model, n_heads, mix=False),\n",
    "                    d_model,\n",
    "                    d_ff,\n",
    "                    dropout=dropout,\n",
    "                    activation=activation,\n",
    "                )\n",
    "                for l in range(d_layers)\n",
    "            ],\n",
    "            norm_layer=torch.nn.LayerNorm(d_model)\n",
    "        )\n",
    "        # self.end_conv1 = nn.Conv1d(in_channels=label_len+out_len, out_channels=out_len, kernel_size=1, bias=True)\n",
    "        # self.end_conv2 = nn.Conv1d(in_channels=d_model, out_channels=c_out, kernel_size=1, bias=True)\n",
    "        self.projection = nn.Linear(d_model, c_out, bias=True)\n",
    "        self.finalact = nn.Softmax(dim=-1)\n",
    "    # def forward(self, x_enc, x_mark_enc, x_dec, x_mark_dec, \n",
    "    #             enc_self_mask=None, dec_self_mask=None, dec_enc_mask=None):\n",
    "    #     enc_out = self.enc_embedding(x_enc, x_mark_enc)\n",
    "    #     enc_out, attns = self.encoder(enc_out, attn_mask=enc_self_mask)\n",
    "\n",
    "    #     dec_out = self.dec_embedding(x_dec, x_mark_dec)\n",
    "    #     dec_out = self.decoder(dec_out, enc_out, x_mask=dec_self_mask, cross_mask=dec_enc_mask)\n",
    "    #     dec_out = self.projection(dec_out)\n",
    "        \n",
    "    #     # dec_out = self.end_conv1(dec_out)\n",
    "    #     # dec_out = self.end_conv2(dec_out.transpose(2,1)).transpose(1,2)\n",
    "    #     if self.output_attention:\n",
    "    #         return dec_out[:,-self.pred_len:,:], attns\n",
    "    #     else:\n",
    "    #         return dec_out[:,-self.pred_len:,:] # [B, L, D]\n",
    "    def forward(self, x_enc, x_dec, \n",
    "                enc_self_mask=None, dec_self_mask=None, dec_enc_mask=None):\n",
    "        enc_out = self.enc_embedding(x_enc)\n",
    "        enc_out, attns = self.encoder(enc_out, attn_mask=enc_self_mask)\n",
    "\n",
    "        dec_out = self.dec_embedding(x_dec)\n",
    "        dec_out = self.decoder(dec_out, enc_out, x_mask=dec_self_mask, cross_mask=dec_enc_mask)\n",
    "        dec_out = self.projection(dec_out)\n",
    "        dec_out = self.finalact(dec_out)\n",
    "        if self.output_attention:\n",
    "            return dec_out, attns  # 返回整个dec_out和注意力权重（如果需要）\n",
    "        else:\n",
    "            return dec_out  # 返回整个dec_out"
   ]
  },
  {
   "cell_type": "code",
   "execution_count": 3,
   "metadata": {},
   "outputs": [
    {
     "name": "stdout",
     "output_type": "stream",
     "text": [
      "Total parm of Model: 0.144514M\n",
      "torch.Size([1, 4320, 2])\n"
     ]
    }
   ],
   "source": [
    "args = dotdict()\n",
    "args.model = 'informer' # model of experiment, options: [informer, informerstack, informerlight(TBD)]\n",
    "args.freq = 'h' # freq for time features encoding, options:[s:secondly, t:minutely, h:hourly, d:daily, b:business days, w:weekly, m:monthly], you can also use more detailed freq like 15min or 3h\n",
    "args.checkpoints = './informer_checkpoints' # location of model checkpoints\n",
    "args.factor = 3 # probsparse attn factor\n",
    "args.e_layers = 2 # num of encoder layers\n",
    "args.d_layers = 1 # num of decoder layers\n",
    "args.dropout = 0.01 # dropout\n",
    "args.attn = 'prob' # attention used in encoder, options:[prob, full]\n",
    "args.embed = 'learned' # time features encoding, options:[timeF, fixed, learned]\n",
    "args.activation = 'gelu' # activation\n",
    "args.distil = True # whether to use distilling in encoder\n",
    "args.output_attention = False # whether to output attention in ecoder\n",
    "args.mix = True\n",
    "args.padding = -1\n",
    "args.freq = 'h'\n",
    "\n",
    "enc_in = 12\n",
    "dec_in = enc_in\n",
    "c_out = 2\n",
    "n_heads = 8\n",
    "d_model = 64\n",
    "d_ff = 128\n",
    "model = Informer(\n",
    "    enc_in,\n",
    "    dec_in, \n",
    "    c_out, \n",
    "    args.factor,\n",
    "    d_model, \n",
    "    n_heads, \n",
    "    args.e_layers,\n",
    "    args.d_layers, \n",
    "    d_ff,\n",
    "    args.dropout, \n",
    "    args.attn,\n",
    "    args.embed,\n",
    "    args.freq,\n",
    "    args.activation,\n",
    "    args.output_attention,\n",
    "    args.distil,\n",
    "    args.mix,\n",
    "    'cuda'\n",
    ").float()\n",
    "model_name = f'{d_model}d_modelx{d_ff}d_ffx{n_heads}heads_{args.e_layers}enc_layers_{args.d_layers}dec_layers'\n",
    "print(f\"Total parm of Model: {sum(p.numel() for p in model.parameters() if p.requires_grad)/1e6}M\")\n",
    "# torch.Size([1, 96, 7]) torch.Size([1, 96, 4]) torch.Size([1, 72, 7]) torch.Size([1, 72, 4])\n",
    "# print(batch_x.shape, batch_x_mark.shape, dec_inp.shape, batch_y_mark.shape)\n",
    "\n",
    "print(model(torch.rand(1, 4320, enc_in), torch.rand(1, 4320, enc_in)).shape)"
   ]
  },
  {
   "cell_type": "code",
   "execution_count": 4,
   "metadata": {},
   "outputs": [
    {
     "data": {
      "text/plain": [
       "'64d_modelx128d_ffx8heads_2enc_layers_1dec_layers'"
      ]
     },
     "execution_count": 4,
     "metadata": {},
     "output_type": "execute_result"
    }
   ],
   "source": [
    "model_name"
   ]
  },
  {
   "cell_type": "code",
   "execution_count": 5,
   "metadata": {},
   "outputs": [],
   "source": [
    "from pathlib import Path\n",
    "import pickle\n",
    "import numpy as np\n",
    "from matplotlib import pyplot as plt\n",
    "\n",
    "# DATA_ROOT = Path('/home/ljb/data')\n",
    "\n",
    "# x_train_path = DATA_ROOT / 'X_train_notime_little.pkl'\n",
    "# y_train_path = DATA_ROOT / 'y_train_notime_little.pkl'"
   ]
  },
  {
   "cell_type": "code",
   "execution_count": 6,
   "metadata": {},
   "outputs": [],
   "source": [
    "# with open(y_train_path, 'rb') as f:\n",
    "#     y_train_all=torch.from_numpy(pickle.load(f))[:,::6]\n",
    "# print(np.unique(y_train_all))\n",
    "# with open(x_train_path, 'rb') as f:\n",
    "#     x_train_all=torch.from_numpy(pickle.load(f))[:,::6]"
   ]
  },
  {
   "cell_type": "code",
   "execution_count": 7,
   "metadata": {},
   "outputs": [
    {
     "name": "stdout",
     "output_type": "stream",
     "text": [
      "(252457, 13)\n"
     ]
    }
   ],
   "source": [
    "with open('/home/ljb/data/all_data_new.pkl', 'rb') as f:\n",
    "    arr = pickle.load(f)\n",
    "    print(arr[0].shape)"
   ]
  },
  {
   "cell_type": "code",
   "execution_count": 8,
   "metadata": {},
   "outputs": [],
   "source": [
    "downsample_arr = []\n",
    "for ts in arr:\n",
    "    downsample_arr.append(ts[::4])"
   ]
  },
  {
   "cell_type": "code",
   "execution_count": 9,
   "metadata": {},
   "outputs": [],
   "source": [
    "class TimeSeries:\n",
    "    def __init__(self, raw) -> None:\n",
    "        raw = torch.from_numpy(raw).float()\n",
    "        self.x = raw[:, :-1]\n",
    "        self.y = F.one_hot(raw[:, -1:].long(), 2)[:,0].float()\n",
    "        pass\n",
    "    \n",
    "    "
   ]
  },
  {
   "cell_type": "code",
   "execution_count": 10,
   "metadata": {},
   "outputs": [
    {
     "name": "stdout",
     "output_type": "stream",
     "text": [
      "(1654, 13)\n",
      "(901, 13)\n",
      "(1786, 13)\n",
      "(1777, 13)\n",
      "(1324, 13)\n",
      "(901, 13)\n",
      "(1858, 13)\n",
      "7\n"
     ]
    }
   ],
   "source": [
    "all_arr = []\n",
    "skip = 0\n",
    "for i in downsample_arr:\n",
    "    if len(i) < 1900:\n",
    "        print(i.shape)\n",
    "        skip += 1\n",
    "        continue\n",
    "    all_arr.append(TimeSeries(i))\n",
    "print(skip)"
   ]
  },
  {
   "cell_type": "code",
   "execution_count": 11,
   "metadata": {},
   "outputs": [],
   "source": [
    "# from sklearn.preprocessing import RobustScaler\n",
    "# import joblib\n",
    "# Path(f'{model_name}').mkdir(exist_ok=True)\n",
    "\n",
    "# scaler = RobustScaler(quantile_range=(1, 99))\n",
    "# shape = x_train_all.shape\n",
    "# x_train_all = x_train_all.reshape(-1, enc_in)\n",
    "# scaler.fit(x_train_all)\n",
    "# joblib.dump(scaler, f\"{model_name}/robust_scaler.pkl\")\n",
    "# x_train_all = scaler.transform(x_train_all)\n",
    "# x_train_all = torch.from_numpy(x_train_all.reshape(shape))"
   ]
  },
  {
   "cell_type": "code",
   "execution_count": 12,
   "metadata": {},
   "outputs": [
    {
     "name": "stdout",
     "output_type": "stream",
     "text": [
      "torch.Size([1, 4, 4320, 12]) torch.Size([1, 4, 4320, 2])\n"
     ]
    }
   ],
   "source": [
    "# # onehot \n",
    "# y_train_all_onehot = torch.nn.functional.one_hot(y_train_all.long(), 2)[:,:,0].float()\n",
    "# # y_train_all_onehot = label_smoothing(y_train_all_onehot)\n",
    "# print(y_train_all_onehot.shape)\n",
    "# from sklearn.model_selection import train_test_split\n",
    "# x_train, x_val, y_train, y_val = train_test_split(x_train_all, y_train_all_onehot, test_size=0.2, random_state=42)\n",
    "import random\n",
    "\n",
    "train_arr = random.sample(all_arr, int(len(all_arr) * 0.8))\n",
    "val_arr = list(set(all_arr) - set(train_arr))\n",
    "\n",
    "class MyDataset(torch.utils.data.Dataset):\n",
    "    def __init__(self, x, y):\n",
    "        self.x = x\n",
    "        self.y = y\n",
    "        self.len = x.shape[0]\n",
    "        self.length = x.shape[1]\n",
    "        self.num_feat = x.shape[2]\n",
    "        \n",
    "\n",
    "    def aug(self,x,y):\n",
    "        if torch.rand(1) < 0.5:\n",
    "            x = torch.flip(x, dims=[0])\n",
    "            y = torch.flip(y, dims=[0])\n",
    "        if torch.rand(1) < 0.2:\n",
    "            return x, y\n",
    "        clip_length = int((torch.rand(1) * (1.0 - 0.2) + 0.2) * self.length)\n",
    "        pad_length = self.length - clip_length\n",
    "        # print(pad_length, clip_length)\n",
    "        x = x[:clip_length]\n",
    "        y = y[:clip_length]\n",
    "        \n",
    "        x = torch.cat([x, -torch.ones(pad_length, self.num_feat)], dim=0)\n",
    "        y = torch.cat([y, torch.cat([torch.zeros(pad_length, 1), torch.ones(pad_length, 1)], dim=1)], dim=0)\n",
    "        return x, y\n",
    "        \n",
    "    def __getitem__(self, index):\n",
    "        return self.aug(self.x[index], self.y[index])\n",
    "    \n",
    "    def __len__(self):\n",
    "        return self.len\n",
    "    \n",
    "class newMyDataset(torch.utils.data.Dataset):\n",
    "    def __init__(self, train_arr):\n",
    "        self.train_arr = train_arr\n",
    "        self.len = len(train_arr)\n",
    "        # self.featss = train_arr[0].x.shape[-1]\n",
    "\n",
    "    def aug(self,ts):\n",
    "        temp_x = ts.x\n",
    "        temp_y = ts.y\n",
    "        \n",
    "        if torch.rand(1) < 0.5:\n",
    "            temp_x = torch.flip(temp_x, dims=[0])\n",
    "            temp_y = torch.flip(temp_y, dims=[0])\n",
    "            \n",
    "        if temp_x.shape[0] >= 4320:\n",
    "        \n",
    "            if torch.rand(1) < 0.2:\n",
    "                start_index = int(torch.rand(1) * (len(temp_y)-4320))\n",
    "                temp_x = temp_x[start_index:]\n",
    "                temp_y = temp_y[start_index:]\n",
    "            d = int(len(temp_x) / 4320)\n",
    "            # print(4320*int(len(temp_x) / 4320))\n",
    "            try:\n",
    "                temp_x = temp_x[:4320*d].reshape(-1, 4320, 12)\n",
    "                temp_y = temp_y[:4320*d].reshape(-1, 4320, 2)\n",
    "                max_batch = 4\n",
    "                if d > max_batch:\n",
    "                    # random sample max_batch data\n",
    "                    radnom_index = random.sample(range(d), max_batch)\n",
    "                    # print(radnom_index)\n",
    "                    temp_x = temp_x[radnom_index]\n",
    "                    temp_y = temp_y[radnom_index]\n",
    "                    # print(temp_x.shape)\n",
    "            except Exception as e:\n",
    "                print(e)\n",
    "                print(temp_x.shape)\n",
    "                print(temp_y.shape)\n",
    "                # print(d)\n",
    "                # print(4320*d)\n",
    "                # print(len(temp_x))\n",
    "                # print(len(temp_y))\n",
    "                # print(4320*d - len(temp_x))\n",
    "                # print(4320*d - len(temp_y))\n",
    "                # print(4320*d - len(temp_x) == 4320*d - len(temp_y))\n",
    "                raise e\n",
    "        else:\n",
    "            temp_x = temp_x.unsqueeze(0)\n",
    "            temp_y = temp_y.unsqueeze(0)\n",
    "            \n",
    "        return temp_x, temp_y\n",
    "        \n",
    "    def __getitem__(self, index):\n",
    "        return self.aug(self.train_arr[index])\n",
    "    \n",
    "    def __len__(self):\n",
    "        return self.len\n",
    "\n",
    "# print(x_val.shape)\n",
    "# print(y_val.shape)\n",
    "ds = newMyDataset(train_arr)\n",
    "dl = torch.utils.data.DataLoader(ds, batch_size=1, shuffle=True, num_workers=24)\n",
    "ds_val = newMyDataset(val_arr)\n",
    "dl_val = torch.utils.data.DataLoader(ds_val, batch_size=1, shuffle=True, num_workers=24)\n",
    "for x,y in dl:\n",
    "    print(x.shape, y.shape)\n",
    "    break"
   ]
  },
  {
   "cell_type": "code",
   "execution_count": 13,
   "metadata": {},
   "outputs": [],
   "source": [
    "\n",
    "def draw_one_batch(x, y, y_pred, title=None):\n",
    "    x, y, y_pred = x.detach().cpu().numpy(), y.detach().cpu().numpy(), y_pred.detach().cpu().numpy()\n",
    "    # y_pred = F.softmax(torch.from_numpy(y_pred), dim=-1).numpy()\n",
    "    x = x[0,:,1]\n",
    "    y = y[0,:,1]\n",
    "    y_pred = y_pred[0,:,1]\n",
    "    if title is not None:\n",
    "        plt.title(title)\n",
    "    plt.plot(x, label='x')\n",
    "    plt.plot(y, label='y')\n",
    "    plt.plot(y_pred, label='y_pred')\n",
    "    plt.legend()\n",
    "    plt.show()\n",
    "    \n",
    "# test_batch = ds[0]\n",
    "# draw_one_batch(test_batch, test_batch, test_batch)"
   ]
  },
  {
   "cell_type": "code",
   "execution_count": 14,
   "metadata": {},
   "outputs": [],
   "source": [
    "# model.load_state_dict(torch.load('64d_modelx128d_ffx8heads_2enc_layers_1dec_layers/model_100.pth'))"
   ]
  },
  {
   "cell_type": "code",
   "execution_count": 15,
   "metadata": {},
   "outputs": [
    {
     "name": "stdout",
     "output_type": "stream",
     "text": [
      "torch.Size([2, 4320, 2])\n",
      "torch.Size([1, 3950, 2])\n",
      "torch.Size([1, 3951, 2])\n"
     ]
    }
   ],
   "source": [
    "def split_tensor(tensor, max_length=4320, min_length=2160):\n",
    "    \"\"\"\n",
    "    Fixed version of the function to split a 2D tensor along the first dimension into sub-tensors of lengths \n",
    "    not exceeding max_length and not less than min_length. Averages the lengths of the last two sub-tensors if possible.\n",
    "    \n",
    "    Parameters:\n",
    "    - tensor (torch.Tensor): The input tensor of shape (length, 12).\n",
    "    - max_length (int): The maximum length for each sub-tensor.\n",
    "    - min_length (int): The minimum length for each sub-tensor.\n",
    "    \n",
    "    Returns:\n",
    "    - List[torch.Tensor]: A list of sub-tensors.\n",
    "    \"\"\"\n",
    "    try:\n",
    "        # Get the total length of the tensor\n",
    "        length = tensor.shape[0]\n",
    "        if length <= max_length:\n",
    "            return []\n",
    "        # Initialize the list to hold sub-tensor lengths\n",
    "        sub_lengths = []\n",
    "        \n",
    "        while length > 0:\n",
    "            if length >= max_length:\n",
    "                sub_lengths.append(max_length)\n",
    "                length -= max_length\n",
    "            elif length >= min_length:\n",
    "                sub_lengths.append(length)\n",
    "                length = 0  # all the tensor length has been allocated\n",
    "            else:\n",
    "                # If the remaining length is less than the min_length, borrow some length from the last added sub-tensor\n",
    "                # (which has max_length) to make it at least min_length\n",
    "                last_length = sub_lengths.pop()\n",
    "                sub_lengths.append(min_length)\n",
    "                remaining_last_length = last_length - (min_length - length)\n",
    "                if remaining_last_length >= min_length:\n",
    "                    sub_lengths.append(remaining_last_length)\n",
    "                length = 0  # all the tensor length has been allocated\n",
    "        \n",
    "        # Average the last two sub-tensors if their total length is greater than 2 * min_length\n",
    "        if len(sub_lengths) > 1 and sum(sub_lengths[-2:]) > 2 * min_length:\n",
    "            last_two_sum = sub_lengths.pop() + sub_lengths.pop()\n",
    "            avg_length1 = last_two_sum // 2\n",
    "            avg_length2 = last_two_sum - avg_length1  # Ensure the two lengths sum up to the original sum\n",
    "            sub_lengths.extend([avg_length1, avg_length2])\n",
    "        \n",
    "        # Split the tensor\n",
    "        sub_tensors = torch.split(tensor, sub_lengths, dim=0)\n",
    "    except Exception as e:\n",
    "        print(tensor.shape)\n",
    "        raise e\n",
    "    ret = []\n",
    "    shape_dict = {}\n",
    "    for sub in sub_tensors:\n",
    "        length = sub.shape[0]\n",
    "        if length in shape_dict.keys():\n",
    "            shape_dict[length].append(sub.unsqueeze(0))\n",
    "        else:\n",
    "            shape_dict[length] = [sub.unsqueeze(0)]\n",
    "    for k, v in shape_dict.items():\n",
    "        ret.append(torch.cat(v, dim=0))\n",
    "    return ret\n",
    "\n",
    "\n",
    "for i, _ in zip(split_tensor(torch.rand(16541, 2)), split_tensor(torch.rand(16541, 2))):\n",
    "    print(i.shape)"
   ]
  },
  {
   "cell_type": "code",
   "execution_count": 16,
   "metadata": {},
   "outputs": [],
   "source": [
    "Path(model_name).mkdir(exist_ok=True)"
   ]
  },
  {
   "cell_type": "code",
   "execution_count": 17,
   "metadata": {},
   "outputs": [
    {
     "name": "stdout",
     "output_type": "stream",
     "text": [
      ">>>>>>>>>>>>>>>>>>>>Epoch 1 Train Loss: 0.632564210502749>>>>>>>>>>>>>>>>>>>>\n",
      ">>>>>>>>>>>>>>>>>>>>Epoch 2 Train Loss: 0.6262145921616545>>>>>>>>>>>>>>>>>>>>\n",
      ">>>>>>>>>>>>>>>>>>>>Epoch 3 Train Loss: 0.6060566488017047>>>>>>>>>>>>>>>>>>>>\n",
      ">>>>>>>>>>>>>>>>>>>>Epoch 4 Train Loss: 0.5859239641398248>>>>>>>>>>>>>>>>>>>>\n",
      ">>>>>>>>>>>>>>>>>>>>Epoch 5 Train Loss: 0.5892515772249328>>>>>>>>>>>>>>>>>>>>\n",
      ">>>>>>>>>>>>>>>>>>>>Epoch 6 Train Loss: 0.5978138470260744>>>>>>>>>>>>>>>>>>>>\n"
     ]
    },
    {
     "ename": "KeyboardInterrupt",
     "evalue": "",
     "output_type": "error",
     "traceback": [
      "\u001b[0;31m---------------------------------------------------------------------------\u001b[0m",
      "\u001b[0;31mKeyboardInterrupt\u001b[0m                         Traceback (most recent call last)",
      "\u001b[1;32m/home/ljb/Informer2020/test_model.ipynb Cell 17\u001b[0m line \u001b[0;36m9\n\u001b[1;32m     <a href='vscode-notebook-cell://wsl%2Bubuntu-22.04/home/ljb/Informer2020/test_model.ipynb#X22sdnNjb2RlLXJlbW90ZQ%3D%3D?line=88'>89</a>\u001b[0m loss_fn \u001b[39m=\u001b[39m torch\u001b[39m.\u001b[39mnn\u001b[39m.\u001b[39mBCELoss()\n\u001b[1;32m     <a href='vscode-notebook-cell://wsl%2Bubuntu-22.04/home/ljb/Informer2020/test_model.ipynb#X22sdnNjb2RlLXJlbW90ZQ%3D%3D?line=89'>90</a>\u001b[0m \u001b[39mfor\u001b[39;00m i \u001b[39min\u001b[39;00m \u001b[39mrange\u001b[39m(\u001b[39m1\u001b[39m, \u001b[39m101\u001b[39m):\n\u001b[0;32m---> <a href='vscode-notebook-cell://wsl%2Bubuntu-22.04/home/ljb/Informer2020/test_model.ipynb#X22sdnNjb2RlLXJlbW90ZQ%3D%3D?line=90'>91</a>\u001b[0m     train_one_epoch(dl, model, loss_fn, optimizer, i, scheduler)\n\u001b[1;32m     <a href='vscode-notebook-cell://wsl%2Bubuntu-22.04/home/ljb/Informer2020/test_model.ipynb#X22sdnNjb2RlLXJlbW90ZQ%3D%3D?line=91'>92</a>\u001b[0m     \u001b[39mif\u001b[39;00m i \u001b[39m%\u001b[39m val_pre_epoch \u001b[39m==\u001b[39m \u001b[39m0\u001b[39m:\n\u001b[1;32m     <a href='vscode-notebook-cell://wsl%2Bubuntu-22.04/home/ljb/Informer2020/test_model.ipynb#X22sdnNjb2RlLXJlbW90ZQ%3D%3D?line=92'>93</a>\u001b[0m         val_one_epoch(dl_val, model)\n",
      "\u001b[1;32m/home/ljb/Informer2020/test_model.ipynb Cell 17\u001b[0m line \u001b[0;36m4\n\u001b[1;32m     <a href='vscode-notebook-cell://wsl%2Bubuntu-22.04/home/ljb/Informer2020/test_model.ipynb#X22sdnNjb2RlLXJlbW90ZQ%3D%3D?line=40'>41</a>\u001b[0m y_pred \u001b[39m=\u001b[39m model(x, x)\n\u001b[1;32m     <a href='vscode-notebook-cell://wsl%2Bubuntu-22.04/home/ljb/Informer2020/test_model.ipynb#X22sdnNjb2RlLXJlbW90ZQ%3D%3D?line=41'>42</a>\u001b[0m loss \u001b[39m=\u001b[39m loss_fn(y_pred, y)\n\u001b[0;32m---> <a href='vscode-notebook-cell://wsl%2Bubuntu-22.04/home/ljb/Informer2020/test_model.ipynb#X22sdnNjb2RlLXJlbW90ZQ%3D%3D?line=42'>43</a>\u001b[0m loss\u001b[39m.\u001b[39;49mbackward()\n\u001b[1;32m     <a href='vscode-notebook-cell://wsl%2Bubuntu-22.04/home/ljb/Informer2020/test_model.ipynb#X22sdnNjb2RlLXJlbW90ZQ%3D%3D?line=43'>44</a>\u001b[0m train_loss\u001b[39m.\u001b[39mappend(loss\u001b[39m.\u001b[39mitem())\n\u001b[1;32m     <a href='vscode-notebook-cell://wsl%2Bubuntu-22.04/home/ljb/Informer2020/test_model.ipynb#X22sdnNjb2RlLXJlbW90ZQ%3D%3D?line=44'>45</a>\u001b[0m optimizer\u001b[39m.\u001b[39mstep()\n",
      "File \u001b[0;32m~/miniconda3/envs/ai/lib/python3.10/site-packages/torch/_tensor.py:487\u001b[0m, in \u001b[0;36mTensor.backward\u001b[0;34m(self, gradient, retain_graph, create_graph, inputs)\u001b[0m\n\u001b[1;32m    477\u001b[0m \u001b[39mif\u001b[39;00m has_torch_function_unary(\u001b[39mself\u001b[39m):\n\u001b[1;32m    478\u001b[0m     \u001b[39mreturn\u001b[39;00m handle_torch_function(\n\u001b[1;32m    479\u001b[0m         Tensor\u001b[39m.\u001b[39mbackward,\n\u001b[1;32m    480\u001b[0m         (\u001b[39mself\u001b[39m,),\n\u001b[0;32m   (...)\u001b[0m\n\u001b[1;32m    485\u001b[0m         inputs\u001b[39m=\u001b[39minputs,\n\u001b[1;32m    486\u001b[0m     )\n\u001b[0;32m--> 487\u001b[0m torch\u001b[39m.\u001b[39;49mautograd\u001b[39m.\u001b[39;49mbackward(\n\u001b[1;32m    488\u001b[0m     \u001b[39mself\u001b[39;49m, gradient, retain_graph, create_graph, inputs\u001b[39m=\u001b[39;49minputs\n\u001b[1;32m    489\u001b[0m )\n",
      "File \u001b[0;32m~/miniconda3/envs/ai/lib/python3.10/site-packages/torch/autograd/__init__.py:200\u001b[0m, in \u001b[0;36mbackward\u001b[0;34m(tensors, grad_tensors, retain_graph, create_graph, grad_variables, inputs)\u001b[0m\n\u001b[1;32m    195\u001b[0m     retain_graph \u001b[39m=\u001b[39m create_graph\n\u001b[1;32m    197\u001b[0m \u001b[39m# The reason we repeat same the comment below is that\u001b[39;00m\n\u001b[1;32m    198\u001b[0m \u001b[39m# some Python versions print out the first line of a multi-line function\u001b[39;00m\n\u001b[1;32m    199\u001b[0m \u001b[39m# calls in the traceback and some print out the last line\u001b[39;00m\n\u001b[0;32m--> 200\u001b[0m Variable\u001b[39m.\u001b[39;49m_execution_engine\u001b[39m.\u001b[39;49mrun_backward(  \u001b[39m# Calls into the C++ engine to run the backward pass\u001b[39;49;00m\n\u001b[1;32m    201\u001b[0m     tensors, grad_tensors_, retain_graph, create_graph, inputs,\n\u001b[1;32m    202\u001b[0m     allow_unreachable\u001b[39m=\u001b[39;49m\u001b[39mTrue\u001b[39;49;00m, accumulate_grad\u001b[39m=\u001b[39;49m\u001b[39mTrue\u001b[39;49;00m)\n",
      "\u001b[0;31mKeyboardInterrupt\u001b[0m: "
     ]
    }
   ],
   "source": [
    "from tqdm import tqdm\n",
    "\n",
    "val_pre_epoch = 10\n",
    "\n",
    "def train_one_epoch(dl, model, loss_fn, optimizer, e, scheduler=None):\n",
    "    model.train()\n",
    "    model = model.cuda()\n",
    "    # for x, y in dl:\n",
    "    #     x = x.float().cuda()\n",
    "    #     y = y.float().cuda()\n",
    "    #     y_pred = model(x, x)\n",
    "    #     loss = F.cross_entropy(y_pred, y)\n",
    "    #     print(\">\"*20+str(loss.item())+\">\"*20)\n",
    "    #     loss.backward()\n",
    "    train_loss = []\n",
    "    # y_pred = None\n",
    "    for i, (x, y) in enumerate(dl):\n",
    "        if len(x.shape) == 4:\n",
    "            x = x[0]\n",
    "            y = y[0]\n",
    "        # print(x.shape, y.shape)\n",
    "        # try:\n",
    "        #     for x, y in zip(split_tensor(x), split_tensor(y)):\n",
    "        #         x = x.float().cuda()\n",
    "        #         y = y.float().cuda()\n",
    "        #         print(x.shape)\n",
    "                \n",
    "        #         optimizer.zero_grad()\n",
    "        #         y_pred = model(x, x)\n",
    "        #         loss = loss_fn(y_pred, y)\n",
    "        #         loss.backward()\n",
    "        #         train_loss.append(loss.item())\n",
    "        #         optimizer.step()\n",
    "        # except Exception as e:\n",
    "        #     print(x.shape, y.shape)\n",
    "        #     raise e\n",
    "        try:\n",
    "            x = x.float().cuda()\n",
    "            y = y.float().cuda()\n",
    "            optimizer.zero_grad()\n",
    "            y_pred = model(x, x)\n",
    "            loss = loss_fn(y_pred, y)\n",
    "            loss.backward()\n",
    "            train_loss.append(loss.item())\n",
    "            optimizer.step()\n",
    "            torch.cuda.empty_cache()\n",
    "        except Exception as e:\n",
    "            print(x.shape, y.shape)\n",
    "            raise e\n",
    "        \n",
    "    if scheduler is not None:\n",
    "        scheduler.step()\n",
    "        # break\n",
    "    train_loss = np.average(train_loss)\n",
    "    print(\">\"*20+f\"Epoch {e} Train Loss: \"+str(train_loss)+\">\"*20)\n",
    "    if e % val_pre_epoch == 0:\n",
    "        torch.save(model.state_dict(), f'./{model_name}/model_{e}.pth')\n",
    "        draw_one_batch(x, y, y_pred, title=f\"Train\")\n",
    "\n",
    "def val_one_epoch(dl, model):\n",
    "    model.eval()\n",
    "    model = model.cuda()\n",
    "    val_loss = []\n",
    "    with torch.no_grad():\n",
    "        for i, (x, y) in enumerate(dl):\n",
    "            if len(x.shape) == 4:\n",
    "                x = x[0]\n",
    "                y = y[0]\n",
    "            x = x.float().cuda()\n",
    "            y = y.float().cuda()\n",
    "            y_pred = model(x, x)\n",
    "            loss = loss_fn(y_pred, y)\n",
    "            val_loss.append(loss.item())\n",
    "            # for x, y in zip(split_tensor(x), split_tensor(y)):\n",
    "            #     x = x.float().cuda()\n",
    "            #     y = y.float().cuda()\n",
    "            #     y_pred = model(x, x)\n",
    "            #     loss = loss_fn(y_pred, y)\n",
    "            #     val_loss.append(loss.item())\n",
    "            \n",
    "    val_loss = np.average(val_loss)\n",
    "    print(\">\"*20+\"Val Loss: \"+str(val_loss)+\">\"*20)\n",
    "    draw_one_batch(x, y, y_pred, title=f\"Val\")\n",
    "    torch.cuda.empty_cache()\n",
    "\n",
    "optimizer = torch.optim.AdamW(model.parameters(), lr=1e-3)\n",
    "scheduler = torch.optim.lr_scheduler.CosineAnnealingLR(optimizer, T_max=100, eta_min=1e-4)\n",
    "# loss_fn = torch.nn.MSELoss()\n",
    "loss_fn = torch.nn.BCELoss()\n",
    "for i in range(1, 101):\n",
    "    train_one_epoch(dl, model, loss_fn, optimizer, i, scheduler)\n",
    "    if i % val_pre_epoch == 0:\n",
    "        val_one_epoch(dl_val, model)"
   ]
  },
  {
   "cell_type": "code",
   "execution_count": null,
   "metadata": {},
   "outputs": [
    {
     "name": "stdout",
     "output_type": "stream",
     "text": [
      "torch.Size([1, 8, 2880, 2880])\n"
     ]
    }
   ],
   "source": [
    "def draw_one_batch_and_attn(x, y, y_pred, attn, title=None):\n",
    "    x, y, y_pred, attn = x.detach().cpu().numpy(), y.detach().cpu().numpy(), y_pred.detach().cpu().numpy(), attn.detach().cpu().numpy()\n",
    "    x = x[0,:,1]\n",
    "    y = y[0,:,1]\n",
    "    y_pred = y_pred[0,:,1]\n",
    "    attn = attn[0,:,:]\n",
    "    \n",
    "    if title is not None:\n",
    "        plt.title(title)\n",
    "    plt.plot(x, label='x')\n",
    "    plt.plot(y, label='y')\n",
    "    plt.plot(y_pred, label='y_pred')\n",
    "    \n",
    "    # draw attn\n",
    "    for i in range(attn.shape[0]):\n",
    "        plt.plot(attn[i,:], label=f'attn_{i}')\n",
    "        break\n",
    "    \n",
    "    plt.legend()\n",
    "    plt.show()\n",
    "\n",
    "\n",
    "def check_attention(model, dl):\n",
    "    model.eval()\n",
    "    model.output_attention = True\n",
    "    model.encoder.attn_layers[0].attention.inner_attention.output_attention = True\n",
    "    model = model.cuda()\n",
    "    for i, (x, y) in enumerate(dl):\n",
    "        torch.cuda.empty_cache()\n",
    "        x = x.reshape(1, *x.shape)\n",
    "        y = y.reshape(1, *y.shape)\n",
    "        x = x.float().cuda()\n",
    "        y = y.float().cuda()\n",
    "        y_pred, attns = model(x, x)\n",
    "        print(attns[0].shape)\n",
    "        # draw_one_batch_and_attn(x, y, y_pred, attns[0], title=f\"Val\")\n",
    "        break\n",
    "    model.output_attention = False\n",
    "    model.encoder.attn_layers[0].attention.inner_attention.output_attention = False\n",
    "    return attns\n",
    "\n",
    "attn = check_attention(model, ds_val)[0]"
   ]
  },
  {
   "cell_type": "code",
   "execution_count": null,
   "metadata": {},
   "outputs": [
    {
     "name": "stdout",
     "output_type": "stream",
     "text": [
      "tensor(0.6488, device='cuda:0', grad_fn=<MaxBackward1>)\n",
      "tensor(0.0254, device='cuda:0', grad_fn=<MaxBackward1>)\n",
      "tensor(0.8843, device='cuda:0', grad_fn=<MaxBackward1>)\n",
      "tensor(0.4244, device='cuda:0', grad_fn=<MaxBackward1>)\n",
      "tensor(0.0396, device='cuda:0', grad_fn=<MaxBackward1>)\n",
      "tensor(0.0544, device='cuda:0', grad_fn=<MaxBackward1>)\n",
      "tensor(0.0638, device='cuda:0', grad_fn=<MaxBackward1>)\n",
      "tensor(0.1660, device='cuda:0', grad_fn=<MaxBackward1>)\n"
     ]
    }
   ],
   "source": [
    "for i in range(8):\n",
    "    print(attn[0,i].max())"
   ]
  },
  {
   "cell_type": "code",
   "execution_count": null,
   "metadata": {},
   "outputs": [],
   "source": []
  },
  {
   "cell_type": "code",
   "execution_count": null,
   "metadata": {},
   "outputs": [
    {
     "data": {
      "image/png": "[encoded data removed]",
      "text/plain": [
       "<Figure size 640x480 with 1 Axes>"
      ]
     },
     "metadata": {},
     "output_type": "display_data"
    },
    {
     "data": {
      "image/png": "[encoded data removed]",
      "text/plain": [
       "<Figure size 640x480 with 1 Axes>"
      ]
     },
     "metadata": {},
     "output_type": "display_data"
    },
    {
     "data": {
      "image/png": "[encoded data removed]",
      "text/plain": [
       "<Figure size 640x480 with 1 Axes>"
      ]
     },
     "metadata": {},
     "output_type": "display_data"
    },
    {
     "data": {
      "image/png": "[encoded data removed]",
      "text/plain": [
       "<Figure size 640x480 with 1 Axes>"
      ]
     },
     "metadata": {},
     "output_type": "display_data"
    },
    {
     "data": {
      "image/png": "[encoded data removed]",
      "text/plain": [
       "<Figure size 640x480 with 1 Axes>"
      ]
     },
     "metadata": {},
     "output_type": "display_data"
    },
    {
     "data": {
      "image/png": "[encoded data removed]",
      "text/plain": [
       "<Figure size 640x480 with 1 Axes>"
      ]
     },
     "metadata": {},
     "output_type": "display_data"
    },
    {
     "data": {
      "image/png": "[encoded data removed]",
      "text/plain": [
       "<Figure size 640x480 with 1 Axes>"
      ]
     },
     "metadata": {},
     "output_type": "display_data"
    },
    {
     "data": {
      "image/png": "[encoded data removed]",
      "text/plain": [
       "<Figure size 640x480 with 1 Axes>"
      ]
     },
     "metadata": {},
     "output_type": "display_data"
    }
   ],
   "source": [
    "import cv2\n",
    "\n",
    "\n",
    "def img_resize(image):\n",
    "    height, width = image.shape[0], image.shape[1]\n",
    "    # 设置新的图片分辨率框架\n",
    "    width_new = 120\n",
    "    height_new = 120\n",
    "    # 判断图片的长宽比率\n",
    "    if width / height >= width_new / height_new:\n",
    "        img_new = cv2.resize(image, (width_new, int(height * width_new / width)))\n",
    "    else:\n",
    "        img_new = cv2.resize(image, (int(width * height_new / height), height_new))\n",
    "    return img_new\n",
    "\n",
    "for i in range(8):\n",
    "    img = attn[0, i, :, :].cpu().detach().numpy() * 255\n",
    "    img_new = img_resize(img)\n",
    "    plt.imshow(img_new, cmap='gray')\n",
    "    plt.show()"
   ]
  },
  {
   "cell_type": "code",
   "execution_count": null,
   "metadata": {},
   "outputs": [
    {
     "data": {
      "image/png": "[encoded data removed]",
      "text/plain": [
       "<Figure size 1000x1000 with 2 Axes>"
      ]
     },
     "metadata": {},
     "output_type": "display_data"
    }
   ],
   "source": [
    "import matplotlib.pyplot as plt\n",
    "import torch\n",
    "\n",
    "# 假设 attn 是你打印出来的注意力权重张量，形状为 [18, 8, 2880, 2880]\n",
    "# 为了演示，我们这里随机生成一个这样的张量\n",
    "# attn = torch.rand(18, 8, 2880, 2880)\n",
    "\n",
    "# 选择第一个批次和第一个注意力头的注意力权重\n",
    "attn_to_plot = attn[0, 2, :, :].cpu().detach().numpy()\n",
    "\n",
    "# 使用 Matplotlib 进行可视化\n",
    "plt.figure(figsize=(10, 10))\n",
    "plt.imshow(attn[0,0,:, :].cpu().detach().numpy(), cmap='viridis')\n",
    "plt.colorbar()\n",
    "plt.title(\"Attention Weights of the First Sample and First Attention Head\")\n",
    "plt.xlabel(\"Keys\")\n",
    "plt.ylabel(\"Queries\")\n",
    "plt.show()\n"
   ]
  }
 ],
 "metadata": {
  "kernelspec": {
   "display_name": "ai",
   "language": "python",
   "name": "python3"
  },
  "language_info": {
   "codemirror_mode": {
    "name": "ipython",
    "version": 3
   },
   "file_extension": ".py",
   "mimetype": "text/x-python",
   "name": "python",
   "nbconvert_exporter": "python",
   "pygments_lexer": "ipython3",
   "version": "3.10.12"
  }
 },
 "nbformat": 4,
 "nbformat_minor": 2
}
