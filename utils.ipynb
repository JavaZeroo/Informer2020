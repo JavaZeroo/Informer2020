{
 "cells": [
  {
   "cell_type": "code",
   "execution_count": 1,
   "metadata": {},
   "outputs": [],
   "source": [
    "import torch\n",
    "\n",
    "def split_tensor(tensor, max_length=2880, min_length=None):\n",
    "    \"\"\"\n",
    "    Fixed version of the function to split a 2D tensor along the first dimension into sub-tensors of lengths \n",
    "    not exceeding max_length and not less than min_length. Averages the lengths of the last two sub-tensors if possible.\n",
    "    \n",
    "    Parameters:\n",
    "    - tensor (torch.Tensor): The input tensor of shape (length, 12).\n",
    "    - max_length (int): The maximum length for each sub-tensor.\n",
    "    - min_length (int): The minimum length for each sub-tensor.\n",
    "    \n",
    "    Returns:\n",
    "    - List[torch.Tensor]: A list of sub-tensors.\n",
    "    \"\"\"\n",
    "    min_length = int(max_length / 2) if min_length is None else min_length\n",
    "    try:\n",
    "        # Get the total length of the tensor\n",
    "        length = tensor.shape[0]\n",
    "        if length <= max_length:\n",
    "            return []\n",
    "        # Initialize the list to hold sub-tensor lengths\n",
    "        sub_lengths = []\n",
    "        \n",
    "        while length > 0:\n",
    "            if length >= max_length:\n",
    "                sub_lengths.append(max_length)\n",
    "                length -= max_length\n",
    "            elif length >= min_length:\n",
    "                sub_lengths.append(length)\n",
    "                length = 0  # all the tensor length has been allocated\n",
    "            else:\n",
    "                # If the remaining length is less than the min_length, borrow some length from the last added sub-tensor\n",
    "                # (which has max_length) to make it at least min_length\n",
    "                last_length = sub_lengths.pop()\n",
    "                sub_lengths.append(min_length)\n",
    "                remaining_last_length = last_length - (min_length - length)\n",
    "                if remaining_last_length >= min_length:\n",
    "                    sub_lengths.append(remaining_last_length)\n",
    "                length = 0  # all the tensor length has been allocated\n",
    "        \n",
    "        # Average the last two sub-tensors if their total length is greater than 2 * min_length\n",
    "        if len(sub_lengths) > 1 and sum(sub_lengths[-2:]) > 2 * min_length:\n",
    "            last_two_sum = sub_lengths.pop() + sub_lengths.pop()\n",
    "            avg_length1 = last_two_sum // 2\n",
    "            avg_length2 = last_two_sum - avg_length1  # Ensure the two lengths sum up to the original sum\n",
    "            sub_lengths.extend([avg_length1, avg_length2])\n",
    "        \n",
    "        # Split the tensor\n",
    "        sub_tensors = torch.split(tensor, sub_lengths, dim=0)\n",
    "    except Exception as e:\n",
    "        print(tensor.shape)\n",
    "        raise e\n",
    "    ret = []\n",
    "    shape_dict = {}\n",
    "    for sub in sub_tensors:\n",
    "        length = sub.shape[0]\n",
    "        if length in shape_dict.keys():\n",
    "            shape_dict[length].append(sub.unsqueeze(0))\n",
    "        else:\n",
    "            shape_dict[length] = [sub.unsqueeze(0)]\n",
    "    for k, v in shape_dict.items():\n",
    "        ret.append(torch.cat(v, dim=0))\n",
    "    return ret\n"
   ]
  },
  {
   "cell_type": "code",
   "execution_count": 47,
   "metadata": {},
   "outputs": [],
   "source": [
    "import numpy as np \n",
    "def random_split_tensor(tensor, max_length=2880, min_length=None):\n",
    "    \"\"\"\n",
    "    Fixed version of the function to split a 2D tensor along the first dimension into sub-tensors of lengths \n",
    "    not exceeding max_length and not less than min_length. Averages the lengths of the last two sub-tensors if possible.\n",
    "    \n",
    "    Parameters:\n",
    "    - tensor (torch.Tensor): The input tensor of shape (length, 12).\n",
    "    - max_length (int): The maximum length for each sub-tensor.\n",
    "    - min_length (int): The minimum length for each sub-tensor.\n",
    "    \n",
    "    Returns:\n",
    "    - List[torch.Tensor]: A list of sub-tensors.\n",
    "    \"\"\"\n",
    "    min_length = int(max_length / 1.2) if min_length is None else min_length\n",
    "    try:\n",
    "        # Get the total length of the tensor\n",
    "        length = tensor.shape[0]\n",
    "        if length <= max_length:\n",
    "            return tensor.unsqueeze(0)\n",
    "        random_new_length = np.random.randint(min_length, max_length)\n",
    "        batch_size = length // random_new_length\n",
    "        print(length - batch_size * random_new_length)\n",
    "        tensor = tensor[:batch_size * random_new_length]\n",
    "        batch_tensor = tensor.reshape(batch_size, random_new_length, -1)\n",
    "    except Exception as e:\n",
    "        print(tensor.shape)\n",
    "        raise e\n",
    "    return batch_tensor\n"
   ]
  },
  {
   "cell_type": "code",
   "execution_count": 49,
   "metadata": {},
   "outputs": [
    {
     "name": "stdout",
     "output_type": "stream",
     "text": [
      "1899\n"
     ]
    },
    {
     "data": {
      "text/plain": [
       "torch.Size([7, 2443, 12])"
      ]
     },
     "execution_count": 49,
     "metadata": {},
     "output_type": "execute_result"
    }
   ],
   "source": [
    "random_split_tensor(torch.rand(19000, 12)).shape"
   ]
  },
  {
   "cell_type": "code",
   "execution_count": 7,
   "metadata": {},
   "outputs": [
    {
     "name": "stdout",
     "output_type": "stream",
     "text": [
      "torch.Size([5, 2880, 12])\n",
      "torch.Size([2, 2800, 12])\n"
     ]
    }
   ],
   "source": [
    "for i in split_tensor(torch.rand(20000, 12)):\n",
    "    print(i.shape)"
   ]
  }
 ],
 "metadata": {
  "kernelspec": {
   "display_name": "sde",
   "language": "python",
   "name": "python3"
  },
  "language_info": {
   "codemirror_mode": {
    "name": "ipython",
    "version": 3
   },
   "file_extension": ".py",
   "mimetype": "text/x-python",
   "name": "python",
   "nbconvert_exporter": "python",
   "pygments_lexer": "ipython3",
   "version": "3.11.4"
  }
 },
 "nbformat": 4,
 "nbformat_minor": 2
}
